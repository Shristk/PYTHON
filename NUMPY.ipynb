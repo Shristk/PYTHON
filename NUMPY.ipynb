{
 "cells": [
  {
   "cell_type": "markdown",
   "id": "692ac618-c372-47da-b63c-01724002e26a",
   "metadata": {},
   "source": [
    "# arithmetic operations"
   ]
  },
  {
   "cell_type": "code",
   "execution_count": 17,
   "id": "6cd4693e-401e-49a4-a359-596fb7c80545",
   "metadata": {},
   "outputs": [
    {
     "name": "stdout",
     "output_type": "stream",
     "text": [
      "1\n",
      "32\n",
      "0\n",
      "5\n",
      "[1.         1.41421356 1.73205081 2.         2.23606798 5.65685425]\n"
     ]
    }
   ],
   "source": [
    "import numpy as np\n",
    "\n",
    "var = np.array([1,2,3,4,5,32,])\n",
    "\n",
    "print(np.min(var))\n",
    "print(np.max(var))\n",
    "print(np.argmin(var))\n",
    "print(np.argmax(var))\n",
    "print(np.sqrt(var))\n"
   ]
  },
  {
   "cell_type": "markdown",
   "id": "1e6a4a2d-bbc8-4fbf-9cd4-1b743f51ab7d",
   "metadata": {},
   "source": [
    "the min and max functions are used in numpy to find the biggest and smallest number in the array respetively, and argmin and argmax functions are used to mark the position(address) of the smallest and biggest number in the array respetively. the sqrt function is used to find the square root of each element in the array\n",
    "\n",
    "\n",
    "sin and cos funtion can be used to find sine and coisne value of the elements"
   ]
  },
  {
   "cell_type": "code",
   "execution_count": 16,
   "id": "f97f77fa-8f93-4a1a-8279-535b3b6fb590",
   "metadata": {},
   "outputs": [
    {
     "name": "stdout",
     "output_type": "stream",
     "text": [
      "[1 5]\n",
      "[2 1 3]\n"
     ]
    }
   ],
   "source": [
    "import numpy as np\n",
    "\n",
    "var1 = np.array([[2,1,3],[9,5,6]])\n",
    "print(np.min(var1, axis = 1))\n",
    "print(np.min(var1, axis = 0))"
   ]
  },
  {
   "cell_type": "markdown",
   "id": "93b32a03-bf53-4383-81b4-a3412b443d83",
   "metadata": {},
   "source": [
    "in a 2d array the argmin function is used to find the min and max numbers in the 2d array\n",
    "by passing 2 arguments in the function (the variable name , the axis (axis=0 is referred to as column and axis=1 is referred to as row ))"
   ]
  },
  {
   "cell_type": "code",
   "execution_count": 18,
   "id": "05c0c08d-ddbf-42e0-8a4a-46a71d2fa9e2",
   "metadata": {},
   "outputs": [
    {
     "name": "stdout",
     "output_type": "stream",
     "text": [
      "[ 1  3  6 10 15 47]\n"
     ]
    }
   ],
   "source": [
    "import numpy as np\n",
    "\n",
    "var3 = np.array([1,2,3,4,5,32,])\n",
    "print(np.cumsum(var3))"
   ]
  },
  {
   "cell_type": "markdown",
   "id": "56d767c7-f59a-437c-b2b6-60c694732744",
   "metadata": {},
   "source": [
    "cumsum is a function in which the 1st element is printed as it is then that element is added to the 2nd element and the result is added is added to the next element and the process continues\n"
   ]
  },
  {
   "cell_type": "markdown",
   "id": "c89a5f56-0378-4403-8f51-e04d6daa03b3",
   "metadata": {},
   "source": [
    "# Shape and reshape"
   ]
  },
  {
   "cell_type": "code",
   "execution_count": 32,
   "id": "b79431c9-ae21-4791-b21c-0baeebd64508",
   "metadata": {},
   "outputs": [
    {
     "name": "stdout",
     "output_type": "stream",
     "text": [
      "\n",
      "(2, 2)\n",
      "\n",
      "(2, 3)\n"
     ]
    }
   ],
   "source": [
    "import numpy as np\n",
    "x = np.array([[1,3],[1,2]])\n",
    "y = np.array([[1,2,3],[1,2,3]])\n",
    "\n",
    "print()\n",
    "print(x.shape)\n",
    "print()\n",
    "print(y.shape)"
   ]
  },
  {
   "cell_type": "markdown",
   "id": "7bc087f6-5055-4559-9082-4cf9337a5b4c",
   "metadata": {},
   "source": [
    "the shape function in numpy is used to show the number of rows and columns when the array is changed to mathematical matirx form"
   ]
  },
  {
   "cell_type": "code",
   "execution_count": 33,
   "id": "9ff287be-a680-44f9-b34c-1395f6a48f23",
   "metadata": {},
   "outputs": [
    {
     "name": "stdout",
     "output_type": "stream",
     "text": [
      "[[[[1 2 3 4]]]]\n",
      "(1, 1, 1, 4)\n"
     ]
    }
   ],
   "source": [
    "z = np.array([1,2,3,4],ndmin = 4)\n",
    "print(z)\n",
    "print(z.shape)"
   ]
  },
  {
   "cell_type": "markdown",
   "id": "3718798f-19d6-44a3-ab9f-e653c291221d",
   "metadata": {},
   "source": [
    "# reshape"
   ]
  },
  {
   "cell_type": "code",
   "execution_count": 47,
   "id": "4c836b35-4c05-4b16-9b17-6cd5dcdd7a40",
   "metadata": {},
   "outputs": [
    {
     "name": "stdout",
     "output_type": "stream",
     "text": [
      "[1 2 3 4 5 6] dimesnions is: 1\n",
      "\n",
      "[[1 2]\n",
      " [3 4]\n",
      " [5 6]]\n",
      "2\n"
     ]
    }
   ],
   "source": [
    "x1 = np.array([1,2,3,4,5,6])\n",
    "print(x1,\"dimesnions is:\",x1.ndim)\n",
    "\n",
    "new = x1.reshape(3,2)\n",
    "print()\n",
    "print(new)\n",
    "print(new.ndim)"
   ]
  },
  {
   "cell_type": "markdown",
   "id": "76a0cf76-34e7-4eea-bec2-cb4db9eae636",
   "metadata": {},
   "source": [
    "Reshape is  the function that can be used to arrange a set of array according to your specified number of row and columns in the format (reshape(row,column)). \n",
    "\n",
    "the shape of the array should be according to the number of elemnts in the array otherwise it will throw a eror"
   ]
  },
  {
   "cell_type": "code",
   "execution_count": 10,
   "id": "f3a36318-9b05-4eca-877a-aff6924a4712",
   "metadata": {},
   "outputs": [
    {
     "name": "stdout",
     "output_type": "stream",
     "text": [
      "[ 1  2  3  4  5  6  7  8  9 10 11 12] dimesnions is: 1\n",
      "\n",
      "[[[ 1  2  3]\n",
      "  [ 4  5  6]]\n",
      "\n",
      " [[ 7  8  9]\n",
      "  [10 11 12]]]\n",
      "\n",
      "[[[ 1  2]\n",
      "  [ 3  4]\n",
      "  [ 5  6]]\n",
      "\n",
      " [[ 7  8]\n",
      "  [ 9 10]\n",
      "  [11 12]]]\n",
      "\n",
      "[ 1  2  3  4  5  6  7  8  9 10 11 12]\n"
     ]
    }
   ],
   "source": [
    "import numpy as np\n",
    "x2 = np.array([1,2,3,4,5,6,7,8,9,10,11,12])\n",
    "print(x2,\"dimesnions is:\",x2.ndim)\n",
    "\n",
    "new1 = x2.reshape(2,2,3)\n",
    "print()\n",
    "new2 = x2.reshape(2,3,2)\n",
    "\n",
    "print(new1)\n",
    "print()\n",
    "print(new2)\n",
    "print()\n",
    "old = new1.reshape(-1)\n",
    "print(old)\n",
    "\n"
   ]
  },
  {
   "cell_type": "markdown",
   "id": "19f4adb3-9a5c-47f9-bb63-8726dfecceeb",
   "metadata": {},
   "source": [
    "we can convert a 1d array to any specified dimesion array with the help of reshape function and then convert it back to 1d array with the help of passing -1 in the reshape argument"
   ]
  },
  {
   "cell_type": "markdown",
   "id": "b1855f53-45b4-4add-ab77-23f67b28f882",
   "metadata": {},
   "source": [
    "# BROADCASTING"
   ]
  },
  {
   "cell_type": "code",
   "execution_count": 15,
   "id": "5faaa76b-7a7c-474a-85dd-32d313d55108",
   "metadata": {},
   "outputs": [
    {
     "name": "stdout",
     "output_type": "stream",
     "text": [
      "(3,)\n",
      "(3, 1)\n",
      "\n",
      "[[2 3 4]\n",
      " [3 4 5]\n",
      " [4 5 6]]\n",
      "\n",
      "(3, 3)\n"
     ]
    }
   ],
   "source": [
    "import numpy as np\n",
    "p = np.array([1,2,3])\n",
    "print(p.shape)\n",
    "q = np.array([[1],[2],[3]])\n",
    "print(q.shape)\n",
    "print()\n",
    "print(p+q)\n",
    "print()\n",
    "print((p+q).shape)\n",
    "\n",
    "\n"
   ]
  },
  {
   "cell_type": "markdown",
   "id": "277675c8-8e3f-4019-a7e4-1f0c8c1bb812",
   "metadata": {},
   "source": [
    "broadcasting means the priting the output of operations performed to the given arrays\n",
    "\n",
    "there are some rules for broadcasting like both the arrays while giving their sum should have the same number of elements \n",
    "\n",
    "if the dimesnion of the array are different then the shapes of the arrays should have atleast one value in common and the max number of both the shapes will decide the shape of the rrsulting array\n",
    "\n",
    "NOTES IN COPY ALSO"
   ]
  },
  {
   "cell_type": "code",
   "execution_count": 20,
   "id": "519a6a45-ea67-4519-85bf-f484440834e9",
   "metadata": {},
   "outputs": [
    {
     "name": "stdout",
     "output_type": "stream",
     "text": [
      "(2, 1)\n",
      "(3, 1)\n",
      "\n",
      "[[2 3 4]\n",
      " [3 4 5]]\n"
     ]
    }
   ],
   "source": [
    "p1 = np.array([[1],[2]])\n",
    "print(p1.shape)\n",
    "q1 = np.array([[1,2,3],[1,2,3]])\n",
    "print(q2.shape)\n",
    "print()\n",
    "print(p1+q1)"
   ]
  },
  {
   "cell_type": "markdown",
   "id": "c9549d21-85f0-4025-a1de-523a985a6021",
   "metadata": {},
   "source": [
    "# INDEXING AND SLICING"
   ]
  },
  {
   "cell_type": "code",
   "execution_count": 25,
   "id": "a736b8df-dd18-45c5-9ec2-2b8e9e03777d",
   "metadata": {},
   "outputs": [
    {
     "name": "stdout",
     "output_type": "stream",
     "text": [
      "8 9\n",
      "9\n"
     ]
    }
   ],
   "source": [
    "import numpy as np\n",
    "a = np.array([9,8,7,6])\n",
    "\n",
    "print(a[1],a[0])\n",
    "print(a[-4])\n"
   ]
  },
  {
   "cell_type": "code",
   "execution_count": 30,
   "id": "7f294407-aec1-4573-ace8-9bffdcd862f4",
   "metadata": {},
   "outputs": [
    {
     "name": "stdout",
     "output_type": "stream",
     "text": [
      "9\n",
      "8\n",
      "6\n"
     ]
    }
   ],
   "source": [
    "a1  = np.array([[9,8,7],[4,5,6]])\n",
    "print(a1[0,0])\n",
    "print(a1[0,1])\n",
    "print(a1[1,2])"
   ]
  },
  {
   "cell_type": "code",
   "execution_count": 34,
   "id": "f26d0432-41ba-4197-97de-31a62c582842",
   "metadata": {},
   "outputs": [
    {
     "name": "stdout",
     "output_type": "stream",
     "text": [
      "3\n",
      "\n",
      "7\n"
     ]
    }
   ],
   "source": [
    "a2 = np.array([[[1,2],[3,4]],[[5,6],[7,8]]])\n",
    "a3 = np.array([[[1,2],[6,7]]])\n",
    "\n",
    "print(a2[0,1,0])\n",
    "print()\n",
    "print(a3[0,1,1])"
   ]
  },
  {
   "cell_type": "markdown",
   "id": "1e851e45-04cd-4d6c-9da1-6e3479e45bdd",
   "metadata": {},
   "source": [
    "# SLICING"
   ]
  },
  {
   "cell_type": "code",
   "execution_count": 43,
   "id": "e7afd020-6c8c-48d4-861b-501afd395df9",
   "metadata": {},
   "outputs": [
    {
     "name": "stdout",
     "output_type": "stream",
     "text": [
      "[1 2 3 4 5 6 7]\n",
      "\n",
      "1\n",
      "\n",
      "2 to 5:  [2 3 4]\n",
      "\n",
      "[2 4]\n",
      "[2 3 4 5 6]\n"
     ]
    }
   ],
   "source": [
    " import numpy as np\n",
    "b = np.array([1,2,3,4,5,6,7])\n",
    "             #0,1,2,3,4,5,6,\n",
    "             #-7,-6,-5,-4,-3,-2,-1\n",
    "print(b)\n",
    "print()\n",
    "print(b[-7])\n",
    "print()\n",
    "print(\"2 to 5: \",b[1:4])\n",
    "print()\n",
    "print(b[1:5:2])\n",
    "print(b[1:-1])"
   ]
  },
  {
   "cell_type": "markdown",
   "id": "8dd93760-fa0a-4df2-a1aa-824a1bafef25",
   "metadata": {},
   "source": [
    "slicing means taking out varibale from the array and it is done in the format of vriable name (start:stop:step)index"
   ]
  },
  {
   "cell_type": "code",
   "execution_count": 52,
   "id": "3501c87f-5a1c-4fed-af0a-bb9f2a568297",
   "metadata": {},
   "outputs": [
    {
     "name": "stdout",
     "output_type": "stream",
     "text": [
      "[[ 1  2  3  4  5]\n",
      " [ 9  8  7  6  5]\n",
      " [11 12 13 14 15]]\n",
      "\n",
      "9 to 5 : [9 8 7 6]\n",
      "[11 12 13 14]\n"
     ]
    }
   ],
   "source": [
    "b1 = np.array([[1,2,3,4,5],[9,8,7,6,5],[11,12,13,14,15]])\n",
    "print(b1)\n",
    "print()\n",
    "print(\"9 to 5 :\",b1[1,0:4])\n",
    "print(b1[2,0:-1])"
   ]
  },
  {
   "cell_type": "markdown",
   "id": "b3c82b73-a9bf-41ee-83bc-4a8bd4d5832b",
   "metadata": {},
   "source": [
    "# ITERATION"
   ]
  },
  {
   "cell_type": "markdown",
   "id": "68fcb506-2002-4e75-a35d-80e107339402",
   "metadata": {},
   "source": [
    "nditer is a function that can used to iterate through array of any dimesnions "
   ]
  },
  {
   "cell_type": "code",
   "execution_count": 64,
   "id": "cbf264bc-1b89-4761-96c2-299314d3e3e4",
   "metadata": {},
   "outputs": [
    {
     "name": "stdout",
     "output_type": "stream",
     "text": [
      "1\n",
      "2\n",
      "3\n",
      "1\n",
      "2\n",
      "3\n"
     ]
    }
   ],
   "source": [
    "d3 = np.array([[[1,2,3],[1,2,3]]])\n",
    "for i in np.nditer(d3):\n",
    "    print(i)\n"
   ]
  },
  {
   "cell_type": "markdown",
   "id": "7b708561-7372-4c95-b393-b820e0196859",
   "metadata": {},
   "source": [
    "iteration in 1d"
   ]
  },
  {
   "cell_type": "code",
   "execution_count": 66,
   "id": "fc1eb8bc-5683-443f-8fc2-4151b1c3d347",
   "metadata": {},
   "outputs": [
    {
     "name": "stdout",
     "output_type": "stream",
     "text": [
      "9\n",
      "8\n",
      "7\n",
      "6\n",
      "5\n",
      "4\n"
     ]
    }
   ],
   "source": [
    "import numpy as np\n",
    "\n",
    "d = np.array([9,8,7,6,5,4])\n",
    "for i in d:\n",
    "    print(i)"
   ]
  },
  {
   "cell_type": "markdown",
   "id": "37db1ec4-83ed-4776-b2f3-2a3eeb3ce616",
   "metadata": {},
   "source": [
    "iteration in 2d"
   ]
  },
  {
   "cell_type": "code",
   "execution_count": 58,
   "id": "01398ce3-46e0-4263-a1ef-8e288a834ac5",
   "metadata": {},
   "outputs": [
    {
     "name": "stdout",
     "output_type": "stream",
     "text": [
      "[1 2 3 4]\n",
      "[5 6 7 8]\n",
      "\n",
      "1\n",
      "2\n",
      "3\n",
      "4\n",
      "5\n",
      "6\n",
      "7\n",
      "8\n"
     ]
    }
   ],
   "source": [
    "d1 = np.array([[1,2,3,4],[5,6,7,8]])\n",
    "for j in d1:\n",
    "    print(j)\n",
    "\n",
    "print()\n",
    "for k in d1:\n",
    "    for l in k:\n",
    "        print(l)"
   ]
  },
  {
   "cell_type": "markdown",
   "id": "fb0db654-5803-4362-acaa-7988be35147f",
   "metadata": {},
   "source": [
    "iteration in 3d"
   ]
  },
  {
   "cell_type": "code",
   "execution_count": 62,
   "id": "0169bca2-1fe5-4f49-9ace-d021bbfc4274",
   "metadata": {},
   "outputs": [
    {
     "name": "stdout",
     "output_type": "stream",
     "text": [
      "[[[1 2 3]\n",
      "  [1 2 3]]]\n",
      "\n",
      "[[1 2 3]\n",
      " [1 2 3]]\n",
      "\n",
      "[1 2 3]\n",
      "[1 2 3]\n",
      "\n",
      "1\n",
      "2\n",
      "3\n",
      "1\n",
      "2\n",
      "3\n"
     ]
    }
   ],
   "source": [
    "d2 = np.array([[[1,2,3],[1,2,3]]])\n",
    "print(d2)\n",
    "print()\n",
    "for a in d2:\n",
    "    print(a)\n",
    "print()\n",
    "for b in d2:\n",
    "    for c in b :\n",
    "        print(c)\n",
    "\n",
    "print()\n",
    "for i in d2:\n",
    "    for j in i:\n",
    "        for k in j:\n",
    "            print(k)"
   ]
  },
  {
   "cell_type": "code",
   "execution_count": 68,
   "id": "9495c3d1-7839-4ebf-8f9a-7bf1f354856d",
   "metadata": {},
   "outputs": [
    {
     "name": "stdout",
     "output_type": "stream",
     "text": [
      "(0, 0, 0) 1\n",
      "(0, 0, 1) 2\n",
      "(0, 0, 2) 3\n",
      "(0, 1, 0) 1\n",
      "(0, 1, 1) 2\n",
      "(0, 1, 2) 3\n"
     ]
    }
   ],
   "source": [
    "d4 = np.array([[[1,2,3],[1,2,3]]])\n",
    "for i,d in np.ndenumerate(d4):\n",
    "    print(i,d)"
   ]
  },
  {
   "cell_type": "markdown",
   "id": "6afb39de-cd6c-4313-bfa8-457a35443c72",
   "metadata": {},
   "source": [
    "ndenumerate function is used to iterate through the array wih the data and its index"
   ]
  },
  {
   "cell_type": "code",
   "execution_count": null,
   "id": "a0d19ada-98ed-4e60-a3fd-ae9775fec7ec",
   "metadata": {},
   "outputs": [],
   "source": []
  }
 ],
 "metadata": {
  "kernelspec": {
   "display_name": "Python 3 (ipykernel)",
   "language": "python",
   "name": "python3"
  },
  "language_info": {
   "codemirror_mode": {
    "name": "ipython",
    "version": 3
   },
   "file_extension": ".py",
   "mimetype": "text/x-python",
   "name": "python",
   "nbconvert_exporter": "python",
   "pygments_lexer": "ipython3",
   "version": "3.12.1"
  }
 },
 "nbformat": 4,
 "nbformat_minor": 5
}
