{
 "cells": [
  {
   "cell_type": "markdown",
   "id": "c1cc6ad6-a7a3-4233-94fd-eb7f974f2a4f",
   "metadata": {},
   "source": [
    "# copy vs view"
   ]
  },
  {
   "cell_type": "code",
   "execution_count": 7,
   "id": "43161575-aa9e-4dfb-ae5b-d48d3330ce5c",
   "metadata": {},
   "outputs": [
    {
     "name": "stdout",
     "output_type": "stream",
     "text": [
      "[ 1 40  3  4]\n",
      "[1 2 3 4]\n"
     ]
    }
   ],
   "source": [
    "import numpy as np\n",
    "var = np.array([1,2,3,4])\n",
    "\n",
    "co = var.copy()\n",
    "var[1] = 40\n",
    "print(var)\n",
    "print(co)"
   ]
  },
  {
   "cell_type": "code",
   "execution_count": 6,
   "id": "748b76a0-ff72-47e1-aba8-de51041a1872",
   "metadata": {},
   "outputs": [
    {
     "name": "stdout",
     "output_type": "stream",
     "text": [
      "[ 9 40  7  6  5]\n",
      "[ 9 40  7  6  5]\n"
     ]
    }
   ],
   "source": [
    "x = np.array([9,8,7,6,5])\n",
    "x[1] = 40\n",
    "co1 = x.view()\n",
    "print(x)\n",
    "print(co1)"
   ]
  },
  {
   "cell_type": "markdown",
   "id": "98a30867-8f57-4a8f-9cd4-eda62ba7aba8",
   "metadata": {},
   "source": [
    "# join arrays"
   ]
  },
  {
   "cell_type": "code",
   "execution_count": 9,
   "id": "af88ce2c-9bd1-449d-9d16-ee058c85eacc",
   "metadata": {},
   "outputs": [
    {
     "name": "stdout",
     "output_type": "stream",
     "text": [
      "[1 2 3 4 9 8 7 6]\n"
     ]
    }
   ],
   "source": [
    "import numpy as np\n",
    "a = np.array([1,2,3,4])\n",
    "b = np.array([9,8,7,6])\n",
    "ar = np.concatenate((a,b))\n",
    "print(ar)"
   ]
  },
  {
   "cell_type": "code",
   "execution_count": 13,
   "id": "1dfa5800-fb3c-4dd4-9d64-23e14aa70d56",
   "metadata": {},
   "outputs": [
    {
     "name": "stdout",
     "output_type": "stream",
     "text": [
      "[[1 2 9 8]\n",
      " [3 4 7 6]]\n",
      "[[1 2]\n",
      " [3 4]\n",
      " [9 8]\n",
      " [7 6]]\n"
     ]
    }
   ],
   "source": [
    "import numpy as np\n",
    "a1 = np.array([[1,2],[3,4]])\n",
    "b1 = np.array([[9,8],[7,6]])\n",
    "ar1 = np.concatenate((a1,b1),axis=1)\n",
    "ar2 = np.concatenate((a1,b1),axis=0)\n",
    "print(ar1)\n",
    "print(ar2)"
   ]
  },
  {
   "cell_type": "code",
   "execution_count": 17,
   "id": "90048d93-8920-4678-b656-2b13a2d46252",
   "metadata": {},
   "outputs": [
    {
     "name": "stdout",
     "output_type": "stream",
     "text": [
      "[1 2 3 4 9 8 7 6]\n",
      "\n",
      "[[1 2 3 4]\n",
      " [9 8 7 6]]\n",
      "\n",
      "[[[1 9]\n",
      "  [2 8]\n",
      "  [3 7]\n",
      "  [4 6]]]\n"
     ]
    }
   ],
   "source": [
    "a2 = np.array([1,2,3,4])\n",
    "b2 = np.array([9,8,7,6])\n",
    "ar3 = np.stack((a2,b2),axis=1)\n",
    "arh = np.hstack((a2,b2))  #row\n",
    "arv =  np.vstack((a2,b2)) #columns\n",
    "arvv = np.dstack((a2,b2))  #height\n",
    "print(arh)\n",
    "print()\n",
    "print(arv)\n",
    "print()\n",
    "print(arvv)"
   ]
  },
  {
   "cell_type": "markdown",
   "id": "80c3f529-8b65-4d32-b3d5-4deb465be533",
   "metadata": {},
   "source": [
    "# split"
   ]
  },
  {
   "cell_type": "code",
   "execution_count": 21,
   "id": "d022e6f0-9605-48c0-b141-759b16d0c9bc",
   "metadata": {},
   "outputs": [
    {
     "name": "stdout",
     "output_type": "stream",
     "text": [
      "[array([1, 2]), array([3, 4]), array([5, 6])]\n",
      "[1 2]\n"
     ]
    }
   ],
   "source": [
    "import numpy as np\n",
    "p = np.array([1,2,3,4,5,6])\n",
    "new = np.array_split(p,3)\n",
    "print(new)\n",
    "print(new[0])"
   ]
  },
  {
   "cell_type": "markdown",
   "id": "9fcff930-4420-47f2-a115-8cefa8305b70",
   "metadata": {},
   "source": [
    "we can use the array_split funtion to split the array into our desired number of parts by specifying the no of parts in the array_ssplit function"
   ]
  },
  {
   "cell_type": "code",
   "execution_count": 22,
   "id": "75e82b07-21d8-4304-9361-152e7547af03",
   "metadata": {},
   "outputs": [
    {
     "name": "stdout",
     "output_type": "stream",
     "text": [
      "[array([[1, 2]]), array([[3, 4]]), array([[5, 6]])]\n"
     ]
    }
   ],
   "source": [
    "p1 = ([[1,2],[3,4],[5,6]])\n",
    "\n",
    "new = np.array_split(p1,3)\n",
    "print(new)"
   ]
  },
  {
   "cell_type": "markdown",
   "id": "8b62273f-fa0a-4b85-a20d-181163f60d95",
   "metadata": {},
   "source": [
    "# search"
   ]
  },
  {
   "cell_type": "markdown",
   "id": "c049052a-6927-48f1-a80f-ee4484ad2099",
   "metadata": {},
   "source": [
    "import numpy as np\n",
    "q = np.array([1,2,3,4,2,5,6,7])\n",
    "\n",
    "s = np.where((q == 2))\n",
    "s1 = np.where((q%2) == 0)\n",
    "print(s)\n",
    "print()\n",
    "print(s1)\n",
    "\n"
   ]
  },
  {
   "cell_type": "markdown",
   "id": "5a3b4636-fad9-433e-b925-8ccfffc6f17d",
   "metadata": {},
   "source": [
    ".where funtion is used in numpy to finad an element in the array and fetch there indexes\n",
    "and it can also be used to find out elemnts in the array with specific conditions"
   ]
  },
  {
   "cell_type": "code",
   "execution_count": 25,
   "id": "2ee91895-81fe-4f5c-a7d6-3380696e9ee3",
   "metadata": {},
   "outputs": [
    {
     "name": "stdout",
     "output_type": "stream",
     "text": [
      "4\n"
     ]
    }
   ],
   "source": [
    "q1 = np.array([1,2,3,4,6,7])\n",
    "\n",
    "s2 = np.searchsorted(q1,5)\n",
    "print(s2)"
   ]
  },
  {
   "cell_type": "markdown",
   "id": "5b1c8440-d43e-447a-b145-5fe265e1ce22",
   "metadata": {},
   "source": [
    "searchsorted function is used in numpy tp find the where we can place a variable in a sorted array at the correct position"
   ]
  },
  {
   "cell_type": "markdown",
   "id": "f4f5bbd1-298e-4ea7-891d-ab22d77dc034",
   "metadata": {},
   "source": [
    "# sort"
   ]
  },
  {
   "cell_type": "code",
   "execution_count": 26,
   "id": "b9e81125-38d2-4d23-9172-d76878e32365",
   "metadata": {},
   "outputs": [
    {
     "name": "stdout",
     "output_type": "stream",
     "text": [
      "[  2   6   8  15  74  78 655]\n"
     ]
    }
   ],
   "source": [
    "import numpy as np\n",
    "q2 = ([8,74,2,15,6,78,655])\n",
    "print(np.sort(q2))"
   ]
  },
  {
   "cell_type": "code",
   "execution_count": 27,
   "id": "52c4dda4-495d-4fd1-8126-e182cb415d4c",
   "metadata": {},
   "outputs": [
    {
     "name": "stdout",
     "output_type": "stream",
     "text": [
      "['a' 'b' 'q' 's' 'z']\n"
     ]
    }
   ],
   "source": [
    "q3 = ([\"a\",\"z\",\"s\",\"b\",\"q\"])\n",
    "print(np.sort(q3))"
   ]
  },
  {
   "cell_type": "markdown",
   "id": "0380801c-b0b9-4af1-9949-689318694e65",
   "metadata": {},
   "source": [
    "sort function can be used in numpy to sort an unsorted array"
   ]
  },
  {
   "cell_type": "markdown",
   "id": "df496ee1-e151-41d7-8acc-b4ddd5fe0cef",
   "metadata": {},
   "source": [
    "# filter array"
   ]
  },
  {
   "cell_type": "code",
   "execution_count": 31,
   "id": "911a3499-8259-4a4e-8b3e-ee9c90223872",
   "metadata": {},
   "outputs": [
    {
     "name": "stdout",
     "output_type": "stream",
     "text": [
      "['a' 'b' 'q']\n"
     ]
    }
   ],
   "source": [
    "import numpy as np\n",
    "r = np.array([\"a\",\"z\",\"s\",\"b\",\"q\"])\n",
    "f = [True,False,False,True,True]\n",
    "new = r[f]\n",
    "print(new)\n",
    "\n",
    "\n"
   ]
  },
  {
   "cell_type": "code",
   "execution_count": 33,
   "id": "ff530800-77c2-45a3-9fcd-39a978c36683",
   "metadata": {},
   "outputs": [
    {
     "name": "stdout",
     "output_type": "stream",
     "text": [
      "[  8  15   6 655]\n"
     ]
    }
   ],
   "source": [
    "r1 = np.array([8,74,2,15,6,78,655])\n",
    "f1 = [True,False,False,True,True,False,True]\n",
    "new1 = r1[f1]\n",
    "print(new1)\n"
   ]
  },
  {
   "cell_type": "code",
   "execution_count": null,
   "id": "8c996c3b-01b0-482c-8829-e7924aa4013f",
   "metadata": {},
   "outputs": [],
   "source": []
  }
 ],
 "metadata": {
  "kernelspec": {
   "display_name": "Python 3 (ipykernel)",
   "language": "python",
   "name": "python3"
  },
  "language_info": {
   "codemirror_mode": {
    "name": "ipython",
    "version": 3
   },
   "file_extension": ".py",
   "mimetype": "text/x-python",
   "name": "python",
   "nbconvert_exporter": "python",
   "pygments_lexer": "ipython3",
   "version": "3.12.1"
  }
 },
 "nbformat": 4,
 "nbformat_minor": 5
}
